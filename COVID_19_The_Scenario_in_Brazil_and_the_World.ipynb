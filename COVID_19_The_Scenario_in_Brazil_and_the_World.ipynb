{
  "nbformat": 4,
  "nbformat_minor": 0,
  "metadata": {
    "colab": {
      "name": "COVID-19: The Scenario in Brazil and the World.ipynb",
      "provenance": [],
      "collapsed_sections": []
    },
    "kernelspec": {
      "name": "python3",
      "display_name": "Python 3"
    }
  },
  "cells": [
    {
      "cell_type": "markdown",
      "metadata": {
        "id": "oqcP-JegL0s9",
        "colab_type": "text"
      },
      "source": [
        "# **COVID-19: The Scenario in Brazil and the World**\n",
        "\n",
        "![Imgur](https://i.imgur.com/kLi0O8Q.jpg)\n",
        "<p align=\"center\">\n",
        "<a align=\"center\"href=\"https://www.freepik.com/free-photos-vectors/card\">Card photo created by freepik - www.freepik.com</a>\n",
        "</p>\n",
        "\n",
        "## **Introduction**\n",
        "\n",
        "The [coronavirus pandemic](https://www.who.int/health-topics/coronavirus#tab=tab_1) has already infected millions of people and killed hundreds of thousands around the world. The virus, [officially named as SARS-CoV-2](https://www.who.int/emergencies/diseases/novel-coronavirus-2019/technical-guidance/naming-the-coronavirus-disease-(covid-2019)-and-the-virus-that-causes-it), is the cause of the infectious disease COVID-19. According to the [World Health Organization](https://www.who.int/), this new virus and disease were unknown before the outbreak began in Wuhan, China, in December 2019. \n",
        "\n",
        "Several countries have gone into lockdown, closed their borders and airports all over the world to try to stop the dissemination of the virus, which also [hit the global economy](https://www.bbc.com/news/business-52991913) hard as the world is still trying to understand e learn how to handle this new challenge.\n",
        "\n",
        "## **The Data**\n",
        "\n",
        "Since the outbreak, many institutions and people are working to gather data about the number of cases and deaths around the world. This is hardly an easy task to perform as the numbers come from governments who sometimes are arguably unreliable or incapable of gathering the real numbers for their countries.\n",
        "\n",
        "In this project, we'll use the data provided by the [Our World In Data](https://ourworldindata.org/) website. According to [Wikipedia](https://en.wikipedia.org/wiki/Our_World_in_Data), Our World in Data is a scientific online publication that focuses on large global problems such as poverty, disease, hunger, climate change, war, existential risks, and inequality. As it is a respectable publication, the data provided by Our World in Data is as reliable as it can be.\n",
        "\n",
        "Due to the high number of variables contained in the dataset we're using, they won't be listed here. If you want to see them all along with their description and main source, you can just click [here](https://github.com/owid/covid-19-data/blob/master/public/data/owid-covid-data-codebook.md) and see it on the[ Our World in Data COVID-19 GitHub repository](https://github.com/owid/covid-19-data).\n",
        "\n",
        "## **The Project**\n",
        "\n",
        "The main goal of this notebook is to follow, on a daily bases, the pandemic situation in Brazil, keeping track of the numbers of cases, deaths, and comparing the country's situation with other very affected countries. The project also aims to perform some analysis in the global situation during the COVID-19 pandemic.\n",
        "\n",
        "**To make the daily update of this notebook easier and faster, there won't be many explanations about each chart. This is preferable than having explanations that do not match what the chart shows, what would inevitably happen since the situation changes fast.**\n",
        "\n",
        "All the graphs will be pretty straight forward and easy to read. Also, as the subject is widely reported since the beginning of 2020, it is fair to assume that most people are already familiarized with it and capable of understanding the plots. Therefore, the great majority of the text present in this notebook is related to the code used.\n",
        "\n",
        "Finally, please notice the output of the second cell showing the date of the last update in the notebook and take it into consideration while reading the rest of the project.\n",
        "\n",
        "\n",
        "\n",
        "\n",
        "\n"
      ]
    },
    {
      "cell_type": "markdown",
      "metadata": {
        "id": "F4JsXe5rjwao",
        "colab_type": "text"
      },
      "source": [
        "## **Exploratory Data Analysis**\n",
        "\n",
        "\n",
        "\n",
        "We'll begin by importing:\n",
        "* `pandas` for data manipulation;\n",
        "* `matplotlib`, `seaborn` and `pywaffle` for data visualization;\n",
        "* `datetime` to deal with dates.\n",
        "\n",
        "After that, please notice the date of the last update in this notebook and consider it while reading."
      ]
    },
    {
      "cell_type": "code",
      "metadata": {
        "id": "zt2rLPbVuer2",
        "colab_type": "code",
        "colab": {
          "base_uri": "https://localhost:8080/",
          "height": 34
        },
        "outputId": "b0d49b41-3c09-48de-faa3-bb062197280b"
      },
      "source": [
        "!pip install pywaffle -q"
      ],
      "execution_count": 1,
      "outputs": [
        {
          "output_type": "stream",
          "text": [
            "\u001b[K     |████████████████████████████████| 532kB 2.8MB/s \n",
            "\u001b[?25h"
          ],
          "name": "stdout"
        }
      ]
    },
    {
      "cell_type": "code",
      "metadata": {
        "id": "wPnwPxaErKBn",
        "colab_type": "code",
        "colab": {
          "base_uri": "https://localhost:8080/",
          "height": 174
        },
        "outputId": "5e83a600-9803-4443-b0af-2b13775fc517"
      },
      "source": [
        "import pandas as pd\n",
        "import matplotlib.pyplot as plt\n",
        "import seaborn as sns\n",
        "import datetime as dt\n",
        "from pywaffle import  Waffle\n",
        "\n",
        "sns.set()\n",
        "%matplotlib inline\n",
        "\n",
        "last_update = pd.to_datetime('today').date()\n",
        "month = last_update.strftime('%b')\n",
        "\n",
        "fig, ax = plt.subplots(figsize=(9, 2))\n",
        "ax.text(x=0, y=0.5, s=f' This notebook was last updated on {month} {last_update.day}, {last_update.year}.', fontsize=20, ha='left')\n",
        "ax.tick_params(top=False, bottom=False, right=False, left=False, labelleft=False, labelbottom=False)\n",
        "ax.grid(False)\n",
        "ax.set_facecolor('white')\n",
        "for key, spine in ax.spines.items():\n",
        "  spine.set_visible(False)\n",
        "\n",
        "plt.show()"
      ],
      "execution_count": 2,
      "outputs": [
        {
          "output_type": "stream",
          "text": [
            "/usr/local/lib/python3.6/dist-packages/statsmodels/tools/_testing.py:19: FutureWarning: pandas.util.testing is deprecated. Use the functions in the public API at pandas.testing instead.\n",
            "  import pandas.util.testing as tm\n"
          ],
          "name": "stderr"
        },
        {
          "output_type": "display_data",
          "data": {
            "image/png": "[encoded data removed]",
            "text/plain": [
              "<Figure size 648x144 with 1 Axes>"
            ]
          },
          "metadata": {
            "tags": []
          }
        }
      ]
    },
    {
      "cell_type": "markdown",
      "metadata": {
        "id": "4pmWpzwMkqSG",
        "colab_type": "text"
      },
      "source": [
        "Now, let's read the data into a dataframe and display its first five rows to understand its structure."
      ]
    },
    {
      "cell_type": "code",
      "metadata": {
        "id": "lOtEJxe0DMEb",
        "colab_type": "code",
        "colab": {
          "base_uri": "https://localhost:8080/",
          "height": 309
        },
        "outputId": "459d2daf-cb8c-47b8-a440-6b2219ee80bd"
      },
      "source": [
        "covid = pd.read_csv('https://covid.ourworldindata.org/data/owid-covid-data.csv')\n",
        "covid.head()"
      ],
      "execution_count": 3,
      "outputs": [
        {
          "output_type": "execute_result",
          "data": {
            "text/html": [
              "<div>\n",
              "<style scoped>\n",
              "    .dataframe tbody tr th:only-of-type {\n",
              "        vertical-align: middle;\n",
              "    }\n",
              "\n",
              "    .dataframe tbody tr th {\n",
              "        vertical-align: top;\n",
              "    }\n",
              "\n",
              "    .dataframe thead th {\n",
              "        text-align: right;\n",
              "    }\n",
              "</style>\n",
              "<table border=\"1\" class=\"dataframe\">\n",
              "  <thead>\n",
              "    <tr style=\"text-align: right;\">\n",
              "      <th></th>\n",
              "      <th>iso_code</th>\n",
              "      <th>continent</th>\n",
              "      <th>location</th>\n",
              "      <th>date</th>\n",
              "      <th>total_cases</th>\n",
              "      <th>new_cases</th>\n",
              "      <th>total_deaths</th>\n",
              "      <th>new_deaths</th>\n",
              "      <th>total_cases_per_million</th>\n",
              "      <th>new_cases_per_million</th>\n",
              "      <th>total_deaths_per_million</th>\n",
              "      <th>new_deaths_per_million</th>\n",
              "      <th>new_tests</th>\n",
              "      <th>total_tests</th>\n",
              "      <th>total_tests_per_thousand</th>\n",
              "      <th>new_tests_per_thousand</th>\n",
              "      <th>new_tests_smoothed</th>\n",
              "      <th>new_tests_smoothed_per_thousand</th>\n",
              "      <th>tests_per_case</th>\n",
              "      <th>positive_rate</th>\n",
              "      <th>tests_units</th>\n",
              "      <th>stringency_index</th>\n",
              "      <th>population</th>\n",
              "      <th>population_density</th>\n",
              "      <th>median_age</th>\n",
              "      <th>aged_65_older</th>\n",
              "      <th>aged_70_older</th>\n",
              "      <th>gdp_per_capita</th>\n",
              "      <th>extreme_poverty</th>\n",
              "      <th>cardiovasc_death_rate</th>\n",
              "      <th>diabetes_prevalence</th>\n",
              "      <th>female_smokers</th>\n",
              "      <th>male_smokers</th>\n",
              "      <th>handwashing_facilities</th>\n",
              "      <th>hospital_beds_per_thousand</th>\n",
              "      <th>life_expectancy</th>\n",
              "    </tr>\n",
              "  </thead>\n",
              "  <tbody>\n",
              "    <tr>\n",
              "      <th>0</th>\n",
              "      <td>AFG</td>\n",
              "      <td>Asia</td>\n",
              "      <td>Afghanistan</td>\n",
              "      <td>2019-12-31</td>\n",
              "      <td>0.0</td>\n",
              "      <td>0.0</td>\n",
              "      <td>0.0</td>\n",
              "      <td>0.0</td>\n",
              "      <td>0.0</td>\n",
              "      <td>0.0</td>\n",
              "      <td>0.0</td>\n",
              "      <td>0.0</td>\n",
              "      <td>NaN</td>\n",
              "      <td>NaN</td>\n",
              "      <td>NaN</td>\n",
              "      <td>NaN</td>\n",
              "      <td>NaN</td>\n",
              "      <td>NaN</td>\n",
              "      <td>NaN</td>\n",
              "      <td>NaN</td>\n",
              "      <td>NaN</td>\n",
              "      <td>NaN</td>\n",
              "      <td>38928341.0</td>\n",
              "      <td>54.422</td>\n",
              "      <td>18.6</td>\n",
              "      <td>2.581</td>\n",
              "      <td>1.337</td>\n",
              "      <td>1803.987</td>\n",
              "      <td>NaN</td>\n",
              "      <td>597.029</td>\n",
              "      <td>9.59</td>\n",
              "      <td>NaN</td>\n",
              "      <td>NaN</td>\n",
              "      <td>37.746</td>\n",
              "      <td>0.5</td>\n",
              "      <td>64.83</td>\n",
              "    </tr>\n",
              "    <tr>\n",
              "      <th>1</th>\n",
              "      <td>AFG</td>\n",
              "      <td>Asia</td>\n",
              "      <td>Afghanistan</td>\n",
              "      <td>2020-01-01</td>\n",
              "      <td>0.0</td>\n",
              "      <td>0.0</td>\n",
              "      <td>0.0</td>\n",
              "      <td>0.0</td>\n",
              "      <td>0.0</td>\n",
              "      <td>0.0</td>\n",
              "      <td>0.0</td>\n",
              "      <td>0.0</td>\n",
              "      <td>NaN</td>\n",
              "      <td>NaN</td>\n",
              "      <td>NaN</td>\n",
              "      <td>NaN</td>\n",
              "      <td>NaN</td>\n",
              "      <td>NaN</td>\n",
              "      <td>NaN</td>\n",
              "      <td>NaN</td>\n",
              "      <td>NaN</td>\n",
              "      <td>0.0</td>\n",
              "      <td>38928341.0</td>\n",
              "      <td>54.422</td>\n",
              "      <td>18.6</td>\n",
              "      <td>2.581</td>\n",
              "      <td>1.337</td>\n",
              "      <td>1803.987</td>\n",
              "      <td>NaN</td>\n",
              "      <td>597.029</td>\n",
              "      <td>9.59</td>\n",
              "      <td>NaN</td>\n",
              "      <td>NaN</td>\n",
              "      <td>37.746</td>\n",
              "      <td>0.5</td>\n",
              "      <td>64.83</td>\n",
              "    </tr>\n",
              "    <tr>\n",
              "      <th>2</th>\n",
              "      <td>AFG</td>\n",
              "      <td>Asia</td>\n",
              "      <td>Afghanistan</td>\n",
              "      <td>2020-01-02</td>\n",
              "      <td>0.0</td>\n",
              "      <td>0.0</td>\n",
              "      <td>0.0</td>\n",
              "      <td>0.0</td>\n",
              "      <td>0.0</td>\n",
              "      <td>0.0</td>\n",
              "      <td>0.0</td>\n",
              "      <td>0.0</td>\n",
              "      <td>NaN</td>\n",
              "      <td>NaN</td>\n",
              "      <td>NaN</td>\n",
              "      <td>NaN</td>\n",
              "      <td>NaN</td>\n",
              "      <td>NaN</td>\n",
              "      <td>NaN</td>\n",
              "      <td>NaN</td>\n",
              "      <td>NaN</td>\n",
              "      <td>0.0</td>\n",
              "      <td>38928341.0</td>\n",
              "      <td>54.422</td>\n",
              "      <td>18.6</td>\n",
              "      <td>2.581</td>\n",
              "      <td>1.337</td>\n",
              "      <td>1803.987</td>\n",
              "      <td>NaN</td>\n",
              "      <td>597.029</td>\n",
              "      <td>9.59</td>\n",
              "      <td>NaN</td>\n",
              "      <td>NaN</td>\n",
              "      <td>37.746</td>\n",
              "      <td>0.5</td>\n",
              "      <td>64.83</td>\n",
              "    </tr>\n",
              "    <tr>\n",
              "      <th>3</th>\n",
              "      <td>AFG</td>\n",
              "      <td>Asia</td>\n",
              "      <td>Afghanistan</td>\n",
              "      <td>2020-01-03</td>\n",
              "      <td>0.0</td>\n",
              "      <td>0.0</td>\n",
              "      <td>0.0</td>\n",
              "      <td>0.0</td>\n",
              "      <td>0.0</td>\n",
              "      <td>0.0</td>\n",
              "      <td>0.0</td>\n",
              "      <td>0.0</td>\n",
              "      <td>NaN</td>\n",
              "      <td>NaN</td>\n",
              "      <td>NaN</td>\n",
              "      <td>NaN</td>\n",
              "      <td>NaN</td>\n",
              "      <td>NaN</td>\n",
              "      <td>NaN</td>\n",
              "      <td>NaN</td>\n",
              "      <td>NaN</td>\n",
              "      <td>0.0</td>\n",
              "      <td>38928341.0</td>\n",
              "      <td>54.422</td>\n",
              "      <td>18.6</td>\n",
              "      <td>2.581</td>\n",
              "      <td>1.337</td>\n",
              "      <td>1803.987</td>\n",
              "      <td>NaN</td>\n",
              "      <td>597.029</td>\n",
              "      <td>9.59</td>\n",
              "      <td>NaN</td>\n",
              "      <td>NaN</td>\n",
              "      <td>37.746</td>\n",
              "      <td>0.5</td>\n",
              "      <td>64.83</td>\n",
              "    </tr>\n",
              "    <tr>\n",
              "      <th>4</th>\n",
              "      <td>AFG</td>\n",
              "      <td>Asia</td>\n",
              "      <td>Afghanistan</td>\n",
              "      <td>2020-01-04</td>\n",
              "      <td>0.0</td>\n",
              "      <td>0.0</td>\n",
              "      <td>0.0</td>\n",
              "      <td>0.0</td>\n",
              "      <td>0.0</td>\n",
              "      <td>0.0</td>\n",
              "      <td>0.0</td>\n",
              "      <td>0.0</td>\n",
              "      <td>NaN</td>\n",
              "      <td>NaN</td>\n",
              "      <td>NaN</td>\n",
              "      <td>NaN</td>\n",
              "      <td>NaN</td>\n",
              "      <td>NaN</td>\n",
              "      <td>NaN</td>\n",
              "      <td>NaN</td>\n",
              "      <td>NaN</td>\n",
              "      <td>0.0</td>\n",
              "      <td>38928341.0</td>\n",
              "      <td>54.422</td>\n",
              "      <td>18.6</td>\n",
              "      <td>2.581</td>\n",
              "      <td>1.337</td>\n",
              "      <td>1803.987</td>\n",
              "      <td>NaN</td>\n",
              "      <td>597.029</td>\n",
              "      <td>9.59</td>\n",
              "      <td>NaN</td>\n",
              "      <td>NaN</td>\n",
              "      <td>37.746</td>\n",
              "      <td>0.5</td>\n",
              "      <td>64.83</td>\n",
              "    </tr>\n",
              "  </tbody>\n",
              "</table>\n",
              "</div>"
            ],
            "text/plain": [
              "  iso_code continent  ... hospital_beds_per_thousand life_expectancy\n",
              "0      AFG      Asia  ...                        0.5           64.83\n",
              "1      AFG      Asia  ...                        0.5           64.83\n",
              "2      AFG      Asia  ...                        0.5           64.83\n",
              "3      AFG      Asia  ...                        0.5           64.83\n",
              "4      AFG      Asia  ...                        0.5           64.83\n",
              "\n",
              "[5 rows x 36 columns]"
            ]
          },
          "metadata": {
            "tags": []
          },
          "execution_count": 3
        }
      ]
    },
    {
      "cell_type": "markdown",
      "metadata": {
        "id": "N2s3mDWSllKF",
        "colab_type": "text"
      },
      "source": [
        "We can see several lines representing the same country, one for each different date. The data is not structured as a single time series, but as a time series for each country.\n",
        "\n",
        "Let's see the number of rows and columns."
      ]
    },
    {
      "cell_type": "code",
      "metadata": {
        "id": "iH-3mulmloPV",
        "colab_type": "code",
        "colab": {
          "base_uri": "https://localhost:8080/",
          "height": 34
        },
        "outputId": "9ce394ba-f0f6-492a-f7e9-41c374524b22"
      },
      "source": [
        "covid.shape"
      ],
      "execution_count": 4,
      "outputs": [
        {
          "output_type": "execute_result",
          "data": {
            "text/plain": [
              "(36137, 36)"
            ]
          },
          "metadata": {
            "tags": []
          },
          "execution_count": 4
        }
      ]
    },
    {
      "cell_type": "markdown",
      "metadata": {
        "id": "lKFj55aql74o",
        "colab_type": "text"
      },
      "source": [
        "We have dozen of thousands of rows and 34 columns.\n",
        "\n",
        "Let's see more information about each column using the `info` method."
      ]
    },
    {
      "cell_type": "code",
      "metadata": {
        "id": "YpylBGzJlu9n",
        "colab_type": "code",
        "colab": {
          "base_uri": "https://localhost:8080/",
          "height": 748
        },
        "outputId": "29f3ab2a-18c2-43a3-cd6a-e92ee64e0d87"
      },
      "source": [
        "covid.info()"
      ],
      "execution_count": 5,
      "outputs": [
        {
          "output_type": "stream",
          "text": [
            "<class 'pandas.core.frame.DataFrame'>\n",
            "RangeIndex: 36137 entries, 0 to 36136\n",
            "Data columns (total 36 columns):\n",
            " #   Column                           Non-Null Count  Dtype  \n",
            "---  ------                           --------------  -----  \n",
            " 0   iso_code                         36073 non-null  object \n",
            " 1   continent                        35848 non-null  object \n",
            " 2   location                         36137 non-null  object \n",
            " 3   date                             36137 non-null  object \n",
            " 4   total_cases                      35792 non-null  float64\n",
            " 5   new_cases                        35792 non-null  float64\n",
            " 6   total_deaths                     35792 non-null  float64\n",
            " 7   new_deaths                       35792 non-null  float64\n",
            " 8   total_cases_per_million          35728 non-null  float64\n",
            " 9   new_cases_per_million            35728 non-null  float64\n",
            " 10  total_deaths_per_million         35728 non-null  float64\n",
            " 11  new_deaths_per_million           35728 non-null  float64\n",
            " 12  new_tests                        11285 non-null  float64\n",
            " 13  total_tests                      11637 non-null  float64\n",
            " 14  total_tests_per_thousand         11637 non-null  float64\n",
            " 15  new_tests_per_thousand           11285 non-null  float64\n",
            " 16  new_tests_smoothed               12693 non-null  float64\n",
            " 17  new_tests_smoothed_per_thousand  12693 non-null  float64\n",
            " 18  tests_per_case                   11841 non-null  float64\n",
            " 19  positive_rate                    12190 non-null  float64\n",
            " 20  tests_units                      13439 non-null  object \n",
            " 21  stringency_index                 29617 non-null  float64\n",
            " 22  population                       36073 non-null  float64\n",
            " 23  population_density               34487 non-null  float64\n",
            " 24  median_age                       32482 non-null  float64\n",
            " 25  aged_65_older                    32007 non-null  float64\n",
            " 26  aged_70_older                    32314 non-null  float64\n",
            " 27  gdp_per_capita                   32077 non-null  float64\n",
            " 28  extreme_poverty                  21458 non-null  float64\n",
            " 29  cardiovasc_death_rate            32507 non-null  float64\n",
            " 30  diabetes_prevalence              33603 non-null  float64\n",
            " 31  female_smokers                   25716 non-null  float64\n",
            " 32  male_smokers                     25404 non-null  float64\n",
            " 33  handwashing_facilities           14960 non-null  float64\n",
            " 34  hospital_beds_per_thousand       29504 non-null  float64\n",
            " 35  life_expectancy                  35632 non-null  float64\n",
            "dtypes: float64(31), object(5)\n",
            "memory usage: 9.9+ MB\n"
          ],
          "name": "stdout"
        }
      ]
    },
    {
      "cell_type": "markdown",
      "metadata": {
        "id": "G6-GIqw7mfvk",
        "colab_type": "text"
      },
      "source": [
        "The majority of the columns contain numeric data. Also, lots of them contain null values. Let's take a deeper look at that."
      ]
    },
    {
      "cell_type": "code",
      "metadata": {
        "id": "oYjGV88smDHH",
        "colab_type": "code",
        "colab": {
          "base_uri": "https://localhost:8080/",
          "height": 646
        },
        "outputId": "7803915c-4e3d-4785-cfff-4f4809fd35a7"
      },
      "source": [
        "(covid.isnull().sum() / covid.shape[0] * 100).sort_values(ascending=False)"
      ],
      "execution_count": 6,
      "outputs": [
        {
          "output_type": "execute_result",
          "data": {
            "text/plain": [
              "new_tests_per_thousand             68.771619\n",
              "new_tests                          68.771619\n",
              "total_tests_per_thousand           67.797548\n",
              "total_tests                        67.797548\n",
              "tests_per_case                     67.233030\n",
              "positive_rate                      66.267261\n",
              "new_tests_smoothed                 64.875336\n",
              "new_tests_smoothed_per_thousand    64.875336\n",
              "tests_units                        62.810969\n",
              "handwashing_facilities             58.601987\n",
              "extreme_poverty                    40.620417\n",
              "male_smokers                       29.700861\n",
              "female_smokers                     28.837480\n",
              "hospital_beds_per_thousand         18.355148\n",
              "stringency_index                   18.042450\n",
              "aged_65_older                      11.428730\n",
              "gdp_per_capita                     11.235022\n",
              "aged_70_older                      10.579185\n",
              "median_age                         10.114287\n",
              "cardiovasc_death_rate              10.045106\n",
              "diabetes_prevalence                 7.012204\n",
              "population_density                  4.565957\n",
              "life_expectancy                     1.397460\n",
              "new_deaths_per_million              1.131804\n",
              "total_deaths_per_million            1.131804\n",
              "new_cases_per_million               1.131804\n",
              "total_cases_per_million             1.131804\n",
              "new_deaths                          0.954700\n",
              "total_deaths                        0.954700\n",
              "new_cases                           0.954700\n",
              "total_cases                         0.954700\n",
              "continent                           0.799734\n",
              "population                          0.177104\n",
              "iso_code                            0.177104\n",
              "date                                0.000000\n",
              "location                            0.000000\n",
              "dtype: float64"
            ]
          },
          "metadata": {
            "tags": []
          },
          "execution_count": 6
        }
      ]
    },
    {
      "cell_type": "markdown",
      "metadata": {
        "id": "Rqk4HOHonpDV",
        "colab_type": "text"
      },
      "source": [
        "As mentioned earlier, it was expected to have missing information in the data. We can now note that:\n",
        "\n",
        "* All columns contain null data. The only exceptions are the `population`, `date`, `location`, and `iso_code` columns;\n",
        "\n",
        "* The columns with the greats percentage of missing values are related to COVID-19 tests.\n",
        "\n",
        "Moving forward, we'll transform the date column from string to datetime. Then, we'll use `dtypes` to check if the column was in fact transformed."
      ]
    },
    {
      "cell_type": "code",
      "metadata": {
        "id": "hdfdqKc9tavi",
        "colab_type": "code",
        "colab": {
          "base_uri": "https://localhost:8080/",
          "height": 646
        },
        "outputId": "e096e3c4-4b07-425d-ee80-505a35e7bc44"
      },
      "source": [
        "covid['date'] = pd.to_datetime(covid['date'])\n",
        "covid.dtypes"
      ],
      "execution_count": 7,
      "outputs": [
        {
          "output_type": "execute_result",
          "data": {
            "text/plain": [
              "iso_code                                   object\n",
              "continent                                  object\n",
              "location                                   object\n",
              "date                               datetime64[ns]\n",
              "total_cases                               float64\n",
              "new_cases                                 float64\n",
              "total_deaths                              float64\n",
              "new_deaths                                float64\n",
              "total_cases_per_million                   float64\n",
              "new_cases_per_million                     float64\n",
              "total_deaths_per_million                  float64\n",
              "new_deaths_per_million                    float64\n",
              "new_tests                                 float64\n",
              "total_tests                               float64\n",
              "total_tests_per_thousand                  float64\n",
              "new_tests_per_thousand                    float64\n",
              "new_tests_smoothed                        float64\n",
              "new_tests_smoothed_per_thousand           float64\n",
              "tests_per_case                            float64\n",
              "positive_rate                             float64\n",
              "tests_units                                object\n",
              "stringency_index                          float64\n",
              "population                                float64\n",
              "population_density                        float64\n",
              "median_age                                float64\n",
              "aged_65_older                             float64\n",
              "aged_70_older                             float64\n",
              "gdp_per_capita                            float64\n",
              "extreme_poverty                           float64\n",
              "cardiovasc_death_rate                     float64\n",
              "diabetes_prevalence                       float64\n",
              "female_smokers                            float64\n",
              "male_smokers                              float64\n",
              "handwashing_facilities                    float64\n",
              "hospital_beds_per_thousand                float64\n",
              "life_expectancy                           float64\n",
              "dtype: object"
            ]
          },
          "metadata": {
            "tags": []
          },
          "execution_count": 7
        }
      ]
    },
    {
      "cell_type": "markdown",
      "metadata": {
        "id": "AE1HJ0Mrt3hT",
        "colab_type": "text"
      },
      "source": [
        "## **Global Scenario**\n",
        "\n",
        "We'll begin to analyze the global situation of the COVID-19 pandemic by writing the `plot_total` function to create line charts for the `total_cases` and `total_deaths` columns for any country. The function receives three arguments:\n",
        "\n",
        "* country: *string*\n",
        " * The name of the country. It also supports 'world'. \n",
        "* kind: *{'cases', 'deaths'}, default 'cases*'\n",
        " * The kind of data to plot.\n",
        "* log: *bool default False*\n",
        " * If True, the chart will be created using the logarithmic scale"
      ]
    },
    {
      "cell_type": "code",
      "metadata": {
        "id": "Fy-HTUrGwpaF",
        "colab_type": "code",
        "colab": {}
      },
      "source": [
        "def plot_total(country, kind='cases', log=False):\n",
        "\n",
        "    df = covid[(covid['location'] == country.title()) & (covid[f'total_{kind}'] > 0)]\n",
        "\n",
        "    color = None\n",
        "    marker = 'o'\n",
        "    col_index = 4\n",
        "    if kind.lower() == 'deaths':\n",
        "        color='red'\n",
        "        marker = 'P'\n",
        "        col_index = 6\n",
        "\n",
        "    fig, ax = plt.subplots(figsize=(12,6))\n",
        "    ax.plot(df['date'], df[f'total_{kind}'], linewidth=3, color=color, marker=marker, markersize=12, markeredgecolor='w', markeredgewidth=0.5, markevery=[-1])\n",
        "\n",
        "    log_title = ''\n",
        "    if log:\n",
        "        ax.set_yscale('log')\n",
        "        log_title = ' - Logarithmic Scale'\n",
        "\n",
        "    ax.set_title(f'Total COVID-19 {kind.title()} - {country.title()}{log_title}', alpha=0.7)\n",
        "\n",
        "    limx = df.iloc[-1, 3] + dt.timedelta(days=20)\n",
        "    ax.set_xlim(df.iloc[0, 3], limx)\n",
        "\n",
        "    ax.text(x=df.iloc[-1, 3] + dt.timedelta(days=3), y=df.iloc[-1, col_index], s=f'{int(df.iloc[-1, col_index])}', alpha=0.4, fontsize=12)\n",
        "    ax.grid(False)\n",
        "    ax.tick_params(colors='grey')\n",
        "    \n",
        "    plt.tight_layout()\n",
        "    plt.show()"
      ],
      "execution_count": 8,
      "outputs": []
    },
    {
      "cell_type": "markdown",
      "metadata": {
        "id": "fOWPb5_5xJIX",
        "colab_type": "text"
      },
      "source": [
        "We'll now use this function to plot the total number of cases and deaths in the world in a logarithmic scale."
      ]
    },
    {
      "cell_type": "code",
      "metadata": {
        "id": "EzDMOZx4t5Io",
        "colab_type": "code",
        "colab": {
          "base_uri": "https://localhost:8080/",
          "height": 899
        },
        "outputId": "39693efb-b002-4c06-cb80-ac57597f653b"
      },
      "source": [
        "plot_total('world', 'cases', log=True)\n",
        "print('\\n')\n",
        "plot_total('world', 'deaths', log=True)"
      ],
      "execution_count": 9,
      "outputs": [
        {
          "output_type": "display_data",
          "data": {
            "image/png": "[encoded data removed]",
            "text/plain": [
              "<Figure size 864x432 with 1 Axes>"
            ]
          },
          "metadata": {
            "tags": [],
            "needs_background": "dark"
          }
        },
        {
          "output_type": "stream",
          "text": [
            "\n",
            "\n"
          ],
          "name": "stdout"
        },
        {
          "output_type": "display_data",
          "data": {
            "image/png": "[encoded data removed]",
            "text/plain": [
              "<Figure size 864x432 with 1 Axes>"
            ]
          },
          "metadata": {
            "tags": [],
            "needs_background": "dark"
          }
        }
      ]
    },
    {
      "cell_type": "markdown",
      "metadata": {
        "id": "pQlgxmHpyxUD",
        "colab_type": "text"
      },
      "source": [
        "Moving on, we'll write a new function to create bar plots for the top5 countries with most COVID- 19 countries and deaths. The function receives only one argument:\n",
        "\n",
        "* kind: *{'cases', 'deaths'}, default 'cases*'\n",
        " * The kind of data to plot."
      ]
    },
    {
      "cell_type": "code",
      "metadata": {
        "id": "78iGLWUrm8UW",
        "colab_type": "code",
        "colab": {}
      },
      "source": [
        "def plot_top5(kind='cases'):\n",
        "\n",
        "    kind = kind.lower()\n",
        "\n",
        "    most_recent = covid[(covid['date'] == str(last_update)) & (covid['location'] != 'World')]\n",
        "    most_recent = most_recent.sort_values(by=[f'total_{kind}'], ascending=False)\n",
        "    top5 = list(most_recent.iloc[:5,2])\n",
        "\n",
        "    palette = 'Blues_r'\n",
        "    col_index = 4\n",
        "    if kind == 'deaths':\n",
        "        palette = 'Reds_r'\n",
        "        col_index = 6\n",
        "\n",
        "    fig, ax = plt.subplots(figsize=(11,8))\n",
        "    rects = ax.bar(x='location', height=f'total_{kind}', data=most_recent[:5], color=sns.color_palette(palette))\n",
        "\n",
        "    ax.set_ylim(0, most_recent.iloc[0, col_index] * 1.15)\n",
        "    ax.grid(False)\n",
        "    ax.tick_params(top=False, bottom=False, right=False, left=False, labelleft=False, labelbottom=False)\n",
        "    ax.ticklabel_format(axis='y', style='plain')\n",
        "    ax.set_title(f'Top 5 Countries by Confirmed {kind.title()}', alpha=0.7)\n",
        "    \n",
        "    for key, spine in ax.spines.items():\n",
        "        spine.set_visible(False)\n",
        "\n",
        "    for rect, case in zip(rects, top5):\n",
        "        height = rect.get_height()\n",
        "        ax.text(x=rect.get_x() + rect.get_width() / 2, y=height * 0.7, s=case, ha='center', color='w', fontsize=12, fontweight='bold')\n",
        "        ax.text(x=rect.get_x() + rect.get_width() / 2, y=height * 1.05, s=f'{int(height)}', ha='center', color='black', fontsize=14, alpha=0.4)\n",
        "    \n",
        "    plt.tight_layout()\n",
        "    plt.show()"
      ],
      "execution_count": 10,
      "outputs": []
    },
    {
      "cell_type": "markdown",
      "metadata": {
        "id": "uTCrW8CU-seA",
        "colab_type": "text"
      },
      "source": [
        "And now let's plot the bar charts."
      ]
    },
    {
      "cell_type": "code",
      "metadata": {
        "id": "QAzlxOqi1yDt",
        "colab_type": "code",
        "colab": {
          "base_uri": "https://localhost:8080/",
          "height": 1000
        },
        "outputId": "f10255c2-5a67-4d5a-e65f-02b1b19eb964"
      },
      "source": [
        "plot_top5()\n",
        "print('\\n')\n",
        "plot_top5('deaths')"
      ],
      "execution_count": 11,
      "outputs": [
        {
          "output_type": "display_data",
          "data": {
            "image/png": "[encoded data removed]",
            "text/plain": [
              "<Figure size 792x576 with 1 Axes>"
            ]
          },
          "metadata": {
            "tags": []
          }
        },
        {
          "output_type": "stream",
          "text": [
            "\n",
            "\n"
          ],
          "name": "stdout"
        },
        {
          "output_type": "display_data",
          "data": {
            "image/png": "[encoded data removed]",
            "text/plain": [
              "<Figure size 792x576 with 1 Axes>"
            ]
          },
          "metadata": {
            "tags": []
          }
        }
      ]
    },
    {
      "cell_type": "markdown",
      "metadata": {
        "id": "PrNterKLqKUN",
        "colab_type": "text"
      },
      "source": [
        "### **Brazil**\n",
        "\n",
        "As mentioned in the introduction, this project will focus on Brazil's situation regarding the COVID-19 pandemic. So, from now on we'll work with the Brazil related rows in the dataset to visualize the pandemic situation in Brazil and compare it with other countries.\n",
        "\n",
        "We'll begin by creating a new dataframe containing only the rows related to Brazil and display its first five rows."
      ]
    },
    {
      "cell_type": "code",
      "metadata": {
        "id": "gO1fv3D1PS4k",
        "colab_type": "code",
        "colab": {
          "base_uri": "https://localhost:8080/",
          "height": 309
        },
        "outputId": "d26bfe01-2500-440d-e90a-1ea6218f3d07"
      },
      "source": [
        "brazil = covid[covid['location'] == 'Brazil']\n",
        "brazil.head()"
      ],
      "execution_count": 12,
      "outputs": [
        {
          "output_type": "execute_result",
          "data": {
            "text/html": [
              "<div>\n",
              "<style scoped>\n",
              "    .dataframe tbody tr th:only-of-type {\n",
              "        vertical-align: middle;\n",
              "    }\n",
              "\n",
              "    .dataframe tbody tr th {\n",
              "        vertical-align: top;\n",
              "    }\n",
              "\n",
              "    .dataframe thead th {\n",
              "        text-align: right;\n",
              "    }\n",
              "</style>\n",
              "<table border=\"1\" class=\"dataframe\">\n",
              "  <thead>\n",
              "    <tr style=\"text-align: right;\">\n",
              "      <th></th>\n",
              "      <th>iso_code</th>\n",
              "      <th>continent</th>\n",
              "      <th>location</th>\n",
              "      <th>date</th>\n",
              "      <th>total_cases</th>\n",
              "      <th>new_cases</th>\n",
              "      <th>total_deaths</th>\n",
              "      <th>new_deaths</th>\n",
              "      <th>total_cases_per_million</th>\n",
              "      <th>new_cases_per_million</th>\n",
              "      <th>total_deaths_per_million</th>\n",
              "      <th>new_deaths_per_million</th>\n",
              "      <th>new_tests</th>\n",
              "      <th>total_tests</th>\n",
              "      <th>total_tests_per_thousand</th>\n",
              "      <th>new_tests_per_thousand</th>\n",
              "      <th>new_tests_smoothed</th>\n",
              "      <th>new_tests_smoothed_per_thousand</th>\n",
              "      <th>tests_per_case</th>\n",
              "      <th>positive_rate</th>\n",
              "      <th>tests_units</th>\n",
              "      <th>stringency_index</th>\n",
              "      <th>population</th>\n",
              "      <th>population_density</th>\n",
              "      <th>median_age</th>\n",
              "      <th>aged_65_older</th>\n",
              "      <th>aged_70_older</th>\n",
              "      <th>gdp_per_capita</th>\n",
              "      <th>extreme_poverty</th>\n",
              "      <th>cardiovasc_death_rate</th>\n",
              "      <th>diabetes_prevalence</th>\n",
              "      <th>female_smokers</th>\n",
              "      <th>male_smokers</th>\n",
              "      <th>handwashing_facilities</th>\n",
              "      <th>hospital_beds_per_thousand</th>\n",
              "      <th>life_expectancy</th>\n",
              "    </tr>\n",
              "  </thead>\n",
              "  <tbody>\n",
              "    <tr>\n",
              "      <th>4661</th>\n",
              "      <td>BRA</td>\n",
              "      <td>South America</td>\n",
              "      <td>Brazil</td>\n",
              "      <td>2019-12-31</td>\n",
              "      <td>0.0</td>\n",
              "      <td>0.0</td>\n",
              "      <td>0.0</td>\n",
              "      <td>0.0</td>\n",
              "      <td>0.0</td>\n",
              "      <td>0.0</td>\n",
              "      <td>0.0</td>\n",
              "      <td>0.0</td>\n",
              "      <td>NaN</td>\n",
              "      <td>NaN</td>\n",
              "      <td>NaN</td>\n",
              "      <td>NaN</td>\n",
              "      <td>NaN</td>\n",
              "      <td>NaN</td>\n",
              "      <td>NaN</td>\n",
              "      <td>NaN</td>\n",
              "      <td>NaN</td>\n",
              "      <td>NaN</td>\n",
              "      <td>212559409.0</td>\n",
              "      <td>25.04</td>\n",
              "      <td>33.5</td>\n",
              "      <td>8.552</td>\n",
              "      <td>5.06</td>\n",
              "      <td>14103.452</td>\n",
              "      <td>3.4</td>\n",
              "      <td>177.961</td>\n",
              "      <td>8.11</td>\n",
              "      <td>10.1</td>\n",
              "      <td>17.9</td>\n",
              "      <td>NaN</td>\n",
              "      <td>2.2</td>\n",
              "      <td>75.88</td>\n",
              "    </tr>\n",
              "    <tr>\n",
              "      <th>4662</th>\n",
              "      <td>BRA</td>\n",
              "      <td>South America</td>\n",
              "      <td>Brazil</td>\n",
              "      <td>2020-01-01</td>\n",
              "      <td>0.0</td>\n",
              "      <td>0.0</td>\n",
              "      <td>0.0</td>\n",
              "      <td>0.0</td>\n",
              "      <td>0.0</td>\n",
              "      <td>0.0</td>\n",
              "      <td>0.0</td>\n",
              "      <td>0.0</td>\n",
              "      <td>NaN</td>\n",
              "      <td>NaN</td>\n",
              "      <td>NaN</td>\n",
              "      <td>NaN</td>\n",
              "      <td>NaN</td>\n",
              "      <td>NaN</td>\n",
              "      <td>NaN</td>\n",
              "      <td>NaN</td>\n",
              "      <td>NaN</td>\n",
              "      <td>0.0</td>\n",
              "      <td>212559409.0</td>\n",
              "      <td>25.04</td>\n",
              "      <td>33.5</td>\n",
              "      <td>8.552</td>\n",
              "      <td>5.06</td>\n",
              "      <td>14103.452</td>\n",
              "      <td>3.4</td>\n",
              "      <td>177.961</td>\n",
              "      <td>8.11</td>\n",
              "      <td>10.1</td>\n",
              "      <td>17.9</td>\n",
              "      <td>NaN</td>\n",
              "      <td>2.2</td>\n",
              "      <td>75.88</td>\n",
              "    </tr>\n",
              "    <tr>\n",
              "      <th>4663</th>\n",
              "      <td>BRA</td>\n",
              "      <td>South America</td>\n",
              "      <td>Brazil</td>\n",
              "      <td>2020-01-02</td>\n",
              "      <td>0.0</td>\n",
              "      <td>0.0</td>\n",
              "      <td>0.0</td>\n",
              "      <td>0.0</td>\n",
              "      <td>0.0</td>\n",
              "      <td>0.0</td>\n",
              "      <td>0.0</td>\n",
              "      <td>0.0</td>\n",
              "      <td>NaN</td>\n",
              "      <td>NaN</td>\n",
              "      <td>NaN</td>\n",
              "      <td>NaN</td>\n",
              "      <td>NaN</td>\n",
              "      <td>NaN</td>\n",
              "      <td>NaN</td>\n",
              "      <td>NaN</td>\n",
              "      <td>NaN</td>\n",
              "      <td>0.0</td>\n",
              "      <td>212559409.0</td>\n",
              "      <td>25.04</td>\n",
              "      <td>33.5</td>\n",
              "      <td>8.552</td>\n",
              "      <td>5.06</td>\n",
              "      <td>14103.452</td>\n",
              "      <td>3.4</td>\n",
              "      <td>177.961</td>\n",
              "      <td>8.11</td>\n",
              "      <td>10.1</td>\n",
              "      <td>17.9</td>\n",
              "      <td>NaN</td>\n",
              "      <td>2.2</td>\n",
              "      <td>75.88</td>\n",
              "    </tr>\n",
              "    <tr>\n",
              "      <th>4664</th>\n",
              "      <td>BRA</td>\n",
              "      <td>South America</td>\n",
              "      <td>Brazil</td>\n",
              "      <td>2020-01-03</td>\n",
              "      <td>0.0</td>\n",
              "      <td>0.0</td>\n",
              "      <td>0.0</td>\n",
              "      <td>0.0</td>\n",
              "      <td>0.0</td>\n",
              "      <td>0.0</td>\n",
              "      <td>0.0</td>\n",
              "      <td>0.0</td>\n",
              "      <td>NaN</td>\n",
              "      <td>NaN</td>\n",
              "      <td>NaN</td>\n",
              "      <td>NaN</td>\n",
              "      <td>NaN</td>\n",
              "      <td>NaN</td>\n",
              "      <td>NaN</td>\n",
              "      <td>NaN</td>\n",
              "      <td>NaN</td>\n",
              "      <td>0.0</td>\n",
              "      <td>212559409.0</td>\n",
              "      <td>25.04</td>\n",
              "      <td>33.5</td>\n",
              "      <td>8.552</td>\n",
              "      <td>5.06</td>\n",
              "      <td>14103.452</td>\n",
              "      <td>3.4</td>\n",
              "      <td>177.961</td>\n",
              "      <td>8.11</td>\n",
              "      <td>10.1</td>\n",
              "      <td>17.9</td>\n",
              "      <td>NaN</td>\n",
              "      <td>2.2</td>\n",
              "      <td>75.88</td>\n",
              "    </tr>\n",
              "    <tr>\n",
              "      <th>4665</th>\n",
              "      <td>BRA</td>\n",
              "      <td>South America</td>\n",
              "      <td>Brazil</td>\n",
              "      <td>2020-01-04</td>\n",
              "      <td>0.0</td>\n",
              "      <td>0.0</td>\n",
              "      <td>0.0</td>\n",
              "      <td>0.0</td>\n",
              "      <td>0.0</td>\n",
              "      <td>0.0</td>\n",
              "      <td>0.0</td>\n",
              "      <td>0.0</td>\n",
              "      <td>NaN</td>\n",
              "      <td>NaN</td>\n",
              "      <td>NaN</td>\n",
              "      <td>NaN</td>\n",
              "      <td>NaN</td>\n",
              "      <td>NaN</td>\n",
              "      <td>NaN</td>\n",
              "      <td>NaN</td>\n",
              "      <td>NaN</td>\n",
              "      <td>0.0</td>\n",
              "      <td>212559409.0</td>\n",
              "      <td>25.04</td>\n",
              "      <td>33.5</td>\n",
              "      <td>8.552</td>\n",
              "      <td>5.06</td>\n",
              "      <td>14103.452</td>\n",
              "      <td>3.4</td>\n",
              "      <td>177.961</td>\n",
              "      <td>8.11</td>\n",
              "      <td>10.1</td>\n",
              "      <td>17.9</td>\n",
              "      <td>NaN</td>\n",
              "      <td>2.2</td>\n",
              "      <td>75.88</td>\n",
              "    </tr>\n",
              "  </tbody>\n",
              "</table>\n",
              "</div>"
            ],
            "text/plain": [
              "     iso_code      continent  ... hospital_beds_per_thousand life_expectancy\n",
              "4661      BRA  South America  ...                        2.2           75.88\n",
              "4662      BRA  South America  ...                        2.2           75.88\n",
              "4663      BRA  South America  ...                        2.2           75.88\n",
              "4664      BRA  South America  ...                        2.2           75.88\n",
              "4665      BRA  South America  ...                        2.2           75.88\n",
              "\n",
              "[5 rows x 36 columns]"
            ]
          },
          "metadata": {
            "tags": []
          },
          "execution_count": 12
        }
      ]
    },
    {
      "cell_type": "markdown",
      "metadata": {
        "id": "0OdNNNlxrNVV",
        "colab_type": "text"
      },
      "source": [
        "We can see Brazil has zero cases in the first five rows. Let's see when the first coronavirus infection was confirmed in Brazil."
      ]
    },
    {
      "cell_type": "code",
      "metadata": {
        "id": "PLEGIWRfazkI",
        "colab_type": "code",
        "colab": {
          "base_uri": "https://localhost:8080/",
          "height": 34
        },
        "outputId": "883c6fb0-9674-4407-94fe-09937988a6e6"
      },
      "source": [
        "brazil_first_case = brazil[brazil['total_cases'] == 1].iloc[0,3]\n",
        "\n",
        "print(f'Brazil first case was confimerd on {brazil_first_case.date()}')"
      ],
      "execution_count": 13,
      "outputs": [
        {
          "output_type": "stream",
          "text": [
            "Brazil first case was confimerd on 2020-02-26\n"
          ],
          "name": "stdout"
        }
      ]
    },
    {
      "cell_type": "markdown",
      "metadata": {
        "id": "FsyyPZ2Srh5U",
        "colab_type": "text"
      },
      "source": [
        "Now, let's how long it took fro Brazil to confirm the first death after the first case was confirmed."
      ]
    },
    {
      "cell_type": "code",
      "metadata": {
        "id": "mIKbVQhmcFcB",
        "colab_type": "code",
        "colab": {
          "base_uri": "https://localhost:8080/",
          "height": 34
        },
        "outputId": "3adf3c08-2e0c-4540-9b86-331463464ac3"
      },
      "source": [
        "brazil_first_death = brazil[brazil['total_deaths'] == 1].iloc[0,3]\n",
        "days_to_first_death = brazil_first_death - brazil_first_case\n",
        "print(f'The first death in Brazil was confirmed {days_to_first_death.days} days after the first case, on {brazil_first_death.date()}.')"
      ],
      "execution_count": 14,
      "outputs": [
        {
          "output_type": "stream",
          "text": [
            "The first death in Brazil was confirmed 21 days after the first case, on 2020-03-18.\n"
          ],
          "name": "stdout"
        }
      ]
    },
    {
      "cell_type": "markdown",
      "metadata": {
        "id": "-Z45IUWurIYF",
        "colab_type": "text"
      },
      "source": [
        "Now, let's use the `plot_total` function to see the evolution of the number of cases and deaths in Brazil since the first case was confirmed."
      ]
    },
    {
      "cell_type": "code",
      "metadata": {
        "id": "0gzW9zjDYicB",
        "colab_type": "code",
        "colab": {
          "base_uri": "https://localhost:8080/",
          "height": 899
        },
        "outputId": "cbda6502-ed57-4e47-b30b-0c025c2bef55"
      },
      "source": [
        "plot_total('brazil', 'cases')\n",
        "print('\\n')\n",
        "plot_total('brazil', 'deaths')"
      ],
      "execution_count": 15,
      "outputs": [
        {
          "output_type": "display_data",
          "data": {
            "image/png": "[encoded data removed]",
            "text/plain": [
              "<Figure size 864x432 with 1 Axes>"
            ]
          },
          "metadata": {
            "tags": [],
            "needs_background": "dark"
          }
        },
        {
          "output_type": "stream",
          "text": [
            "\n",
            "\n"
          ],
          "name": "stdout"
        },
        {
          "output_type": "display_data",
          "data": {
            "image/png": "[encoded data removed]",
            "text/plain": [
              "<Figure size 864x432 with 1 Axes>"
            ]
          },
          "metadata": {
            "tags": [],
            "needs_background": "dark"
          }
        }
      ]
    },
    {
      "cell_type": "markdown",
      "metadata": {
        "id": "NYsjZz7Xt4H_",
        "colab_type": "text"
      },
      "source": [
        "We'll compare the number of daily new cases and deaths in Brazil with the top 5 countries by the number of cases. If Brazil is within this top 5, then the sixth country with most cases will be added.  We'll smooth the chart by plotting the 7-day moving average instead of the real numbers.\n",
        "\n",
        "For that, we'll write a new function that:\n",
        "\n",
        "* Select the top 5 countries by the number of cases;\n",
        "* Calculate the 7-day moving average.\n",
        "* Plot the lines for each of the top 5 countries.\n",
        "\n",
        "The `new_cases` function receives only one argument:\n",
        "\n",
        "* kind: *{'cases', 'deaths'}, default 'cases*'\n",
        " * The kind of data to plot.\n"
      ]
    },
    {
      "cell_type": "code",
      "metadata": {
        "id": "pYIkiDbJ582m",
        "colab_type": "code",
        "colab": {
          "base_uri": "https://localhost:8080/",
          "height": 309
        },
        "outputId": "a7fc9bb0-e763-4b07-f070-4a44497cc562"
      },
      "source": [
        "covid[covid['location'] == 'International'].head()"
      ],
      "execution_count": 16,
      "outputs": [
        {
          "output_type": "execute_result",
          "data": {
            "text/html": [
              "<div>\n",
              "<style scoped>\n",
              "    .dataframe tbody tr th:only-of-type {\n",
              "        vertical-align: middle;\n",
              "    }\n",
              "\n",
              "    .dataframe tbody tr th {\n",
              "        vertical-align: top;\n",
              "    }\n",
              "\n",
              "    .dataframe thead th {\n",
              "        text-align: right;\n",
              "    }\n",
              "</style>\n",
              "<table border=\"1\" class=\"dataframe\">\n",
              "  <thead>\n",
              "    <tr style=\"text-align: right;\">\n",
              "      <th></th>\n",
              "      <th>iso_code</th>\n",
              "      <th>continent</th>\n",
              "      <th>location</th>\n",
              "      <th>date</th>\n",
              "      <th>total_cases</th>\n",
              "      <th>new_cases</th>\n",
              "      <th>total_deaths</th>\n",
              "      <th>new_deaths</th>\n",
              "      <th>total_cases_per_million</th>\n",
              "      <th>new_cases_per_million</th>\n",
              "      <th>total_deaths_per_million</th>\n",
              "      <th>new_deaths_per_million</th>\n",
              "      <th>new_tests</th>\n",
              "      <th>total_tests</th>\n",
              "      <th>total_tests_per_thousand</th>\n",
              "      <th>new_tests_per_thousand</th>\n",
              "      <th>new_tests_smoothed</th>\n",
              "      <th>new_tests_smoothed_per_thousand</th>\n",
              "      <th>tests_per_case</th>\n",
              "      <th>positive_rate</th>\n",
              "      <th>tests_units</th>\n",
              "      <th>stringency_index</th>\n",
              "      <th>population</th>\n",
              "      <th>population_density</th>\n",
              "      <th>median_age</th>\n",
              "      <th>aged_65_older</th>\n",
              "      <th>aged_70_older</th>\n",
              "      <th>gdp_per_capita</th>\n",
              "      <th>extreme_poverty</th>\n",
              "      <th>cardiovasc_death_rate</th>\n",
              "      <th>diabetes_prevalence</th>\n",
              "      <th>female_smokers</th>\n",
              "      <th>male_smokers</th>\n",
              "      <th>handwashing_facilities</th>\n",
              "      <th>hospital_beds_per_thousand</th>\n",
              "      <th>life_expectancy</th>\n",
              "    </tr>\n",
              "  </thead>\n",
              "  <tbody>\n",
              "    <tr>\n",
              "      <th>36073</th>\n",
              "      <td>NaN</td>\n",
              "      <td>NaN</td>\n",
              "      <td>International</td>\n",
              "      <td>2019-12-31</td>\n",
              "      <td>0.0</td>\n",
              "      <td>0.0</td>\n",
              "      <td>0.0</td>\n",
              "      <td>0.0</td>\n",
              "      <td>NaN</td>\n",
              "      <td>NaN</td>\n",
              "      <td>NaN</td>\n",
              "      <td>NaN</td>\n",
              "      <td>NaN</td>\n",
              "      <td>NaN</td>\n",
              "      <td>NaN</td>\n",
              "      <td>NaN</td>\n",
              "      <td>NaN</td>\n",
              "      <td>NaN</td>\n",
              "      <td>NaN</td>\n",
              "      <td>NaN</td>\n",
              "      <td>NaN</td>\n",
              "      <td>NaN</td>\n",
              "      <td>NaN</td>\n",
              "      <td>NaN</td>\n",
              "      <td>NaN</td>\n",
              "      <td>NaN</td>\n",
              "      <td>NaN</td>\n",
              "      <td>NaN</td>\n",
              "      <td>NaN</td>\n",
              "      <td>NaN</td>\n",
              "      <td>NaN</td>\n",
              "      <td>NaN</td>\n",
              "      <td>NaN</td>\n",
              "      <td>NaN</td>\n",
              "      <td>NaN</td>\n",
              "      <td>NaN</td>\n",
              "    </tr>\n",
              "    <tr>\n",
              "      <th>36074</th>\n",
              "      <td>NaN</td>\n",
              "      <td>NaN</td>\n",
              "      <td>International</td>\n",
              "      <td>2020-01-01</td>\n",
              "      <td>0.0</td>\n",
              "      <td>0.0</td>\n",
              "      <td>0.0</td>\n",
              "      <td>0.0</td>\n",
              "      <td>NaN</td>\n",
              "      <td>NaN</td>\n",
              "      <td>NaN</td>\n",
              "      <td>NaN</td>\n",
              "      <td>NaN</td>\n",
              "      <td>NaN</td>\n",
              "      <td>NaN</td>\n",
              "      <td>NaN</td>\n",
              "      <td>NaN</td>\n",
              "      <td>NaN</td>\n",
              "      <td>NaN</td>\n",
              "      <td>NaN</td>\n",
              "      <td>NaN</td>\n",
              "      <td>NaN</td>\n",
              "      <td>NaN</td>\n",
              "      <td>NaN</td>\n",
              "      <td>NaN</td>\n",
              "      <td>NaN</td>\n",
              "      <td>NaN</td>\n",
              "      <td>NaN</td>\n",
              "      <td>NaN</td>\n",
              "      <td>NaN</td>\n",
              "      <td>NaN</td>\n",
              "      <td>NaN</td>\n",
              "      <td>NaN</td>\n",
              "      <td>NaN</td>\n",
              "      <td>NaN</td>\n",
              "      <td>NaN</td>\n",
              "    </tr>\n",
              "    <tr>\n",
              "      <th>36075</th>\n",
              "      <td>NaN</td>\n",
              "      <td>NaN</td>\n",
              "      <td>International</td>\n",
              "      <td>2020-01-02</td>\n",
              "      <td>0.0</td>\n",
              "      <td>0.0</td>\n",
              "      <td>0.0</td>\n",
              "      <td>0.0</td>\n",
              "      <td>NaN</td>\n",
              "      <td>NaN</td>\n",
              "      <td>NaN</td>\n",
              "      <td>NaN</td>\n",
              "      <td>NaN</td>\n",
              "      <td>NaN</td>\n",
              "      <td>NaN</td>\n",
              "      <td>NaN</td>\n",
              "      <td>NaN</td>\n",
              "      <td>NaN</td>\n",
              "      <td>NaN</td>\n",
              "      <td>NaN</td>\n",
              "      <td>NaN</td>\n",
              "      <td>NaN</td>\n",
              "      <td>NaN</td>\n",
              "      <td>NaN</td>\n",
              "      <td>NaN</td>\n",
              "      <td>NaN</td>\n",
              "      <td>NaN</td>\n",
              "      <td>NaN</td>\n",
              "      <td>NaN</td>\n",
              "      <td>NaN</td>\n",
              "      <td>NaN</td>\n",
              "      <td>NaN</td>\n",
              "      <td>NaN</td>\n",
              "      <td>NaN</td>\n",
              "      <td>NaN</td>\n",
              "      <td>NaN</td>\n",
              "    </tr>\n",
              "    <tr>\n",
              "      <th>36076</th>\n",
              "      <td>NaN</td>\n",
              "      <td>NaN</td>\n",
              "      <td>International</td>\n",
              "      <td>2020-01-03</td>\n",
              "      <td>0.0</td>\n",
              "      <td>0.0</td>\n",
              "      <td>0.0</td>\n",
              "      <td>0.0</td>\n",
              "      <td>NaN</td>\n",
              "      <td>NaN</td>\n",
              "      <td>NaN</td>\n",
              "      <td>NaN</td>\n",
              "      <td>NaN</td>\n",
              "      <td>NaN</td>\n",
              "      <td>NaN</td>\n",
              "      <td>NaN</td>\n",
              "      <td>NaN</td>\n",
              "      <td>NaN</td>\n",
              "      <td>NaN</td>\n",
              "      <td>NaN</td>\n",
              "      <td>NaN</td>\n",
              "      <td>NaN</td>\n",
              "      <td>NaN</td>\n",
              "      <td>NaN</td>\n",
              "      <td>NaN</td>\n",
              "      <td>NaN</td>\n",
              "      <td>NaN</td>\n",
              "      <td>NaN</td>\n",
              "      <td>NaN</td>\n",
              "      <td>NaN</td>\n",
              "      <td>NaN</td>\n",
              "      <td>NaN</td>\n",
              "      <td>NaN</td>\n",
              "      <td>NaN</td>\n",
              "      <td>NaN</td>\n",
              "      <td>NaN</td>\n",
              "    </tr>\n",
              "    <tr>\n",
              "      <th>36077</th>\n",
              "      <td>NaN</td>\n",
              "      <td>NaN</td>\n",
              "      <td>International</td>\n",
              "      <td>2020-01-04</td>\n",
              "      <td>0.0</td>\n",
              "      <td>0.0</td>\n",
              "      <td>0.0</td>\n",
              "      <td>0.0</td>\n",
              "      <td>NaN</td>\n",
              "      <td>NaN</td>\n",
              "      <td>NaN</td>\n",
              "      <td>NaN</td>\n",
              "      <td>NaN</td>\n",
              "      <td>NaN</td>\n",
              "      <td>NaN</td>\n",
              "      <td>NaN</td>\n",
              "      <td>NaN</td>\n",
              "      <td>NaN</td>\n",
              "      <td>NaN</td>\n",
              "      <td>NaN</td>\n",
              "      <td>NaN</td>\n",
              "      <td>NaN</td>\n",
              "      <td>NaN</td>\n",
              "      <td>NaN</td>\n",
              "      <td>NaN</td>\n",
              "      <td>NaN</td>\n",
              "      <td>NaN</td>\n",
              "      <td>NaN</td>\n",
              "      <td>NaN</td>\n",
              "      <td>NaN</td>\n",
              "      <td>NaN</td>\n",
              "      <td>NaN</td>\n",
              "      <td>NaN</td>\n",
              "      <td>NaN</td>\n",
              "      <td>NaN</td>\n",
              "      <td>NaN</td>\n",
              "    </tr>\n",
              "  </tbody>\n",
              "</table>\n",
              "</div>"
            ],
            "text/plain": [
              "      iso_code continent  ... hospital_beds_per_thousand life_expectancy\n",
              "36073      NaN       NaN  ...                        NaN             NaN\n",
              "36074      NaN       NaN  ...                        NaN             NaN\n",
              "36075      NaN       NaN  ...                        NaN             NaN\n",
              "36076      NaN       NaN  ...                        NaN             NaN\n",
              "36077      NaN       NaN  ...                        NaN             NaN\n",
              "\n",
              "[5 rows x 36 columns]"
            ]
          },
          "metadata": {
            "tags": []
          },
          "execution_count": 16
        }
      ]
    },
    {
      "cell_type": "code",
      "metadata": {
        "id": "SHHup2VcksOg",
        "colab_type": "code",
        "colab": {}
      },
      "source": [
        "def new_cases(kind='cases'):\n",
        "\n",
        "    most_recent = covid[(covid['date'] == str(last_update)) & (covid['location'] != 'World')]\n",
        "    most_recent_ord = most_recent.sort_values(by=[f'total_{kind}'], ascending=False)\n",
        "    top5 = list(most_recent_ord.iloc[:5,2])\n",
        "\n",
        "    if 'Brazil' in top5:\n",
        "      top5.append(most_recent_ord.iloc[5, 2])\n",
        "    else:\n",
        "      top5.append('Brazil')\n",
        "\n",
        "    fig, ax = plt.subplots(figsize=(12,6))\n",
        "\n",
        "    limx = most_recent.iloc[-1, 3] + dt.timedelta(days=40)\n",
        "    ax.set_xlim(covid.iloc[0, 3], limx)\n",
        "    ax.grid(False)\n",
        "    for country in top5:\n",
        "        color = 'grey'\n",
        "        alpha = 0.3\n",
        "\n",
        "        if country == 'Brazil':\n",
        "            color = '#1f77b4'\n",
        "            alpha = 1\n",
        "            if kind.lower() == 'deaths':\n",
        "                color = 'red'\n",
        "            \n",
        "        plot_df = covid[(covid['location'] == country) & (covid[f'total_{kind}'] > 0)].loc[:, ['date', f'new_{kind}']]\n",
        "        plot_df['ma'] = plot_df[f'new_{kind}'].rolling(window=7).mean()              \n",
        "\n",
        "        ax.plot(plot_df['date'], plot_df['ma'], color=color, alpha=alpha, linewidth=2)\n",
        "        ax.text(x=plot_df.iloc[-1, 0] + dt.timedelta(days=3), y=plot_df.iloc[-1, 2], s=f'{country}', alpha=alpha)\n",
        "\n",
        "    ax.set_title(f'Daily New {kind.title()} - 7-Day Moving Average', alpha=0.7)\n",
        "    ax.tick_params(colors='grey')\n",
        " \n",
        "    plt.tight_layout()\n",
        "    plt.show()"
      ],
      "execution_count": 17,
      "outputs": []
    },
    {
      "cell_type": "markdown",
      "metadata": {
        "id": "DblKbu-nvXmU",
        "colab_type": "text"
      },
      "source": [
        "And now let's use the function we just created to see the 7-day moving average for the daily new cases and deaths for each country."
      ]
    },
    {
      "cell_type": "code",
      "metadata": {
        "id": "Y50pb8PEk8wd",
        "colab_type": "code",
        "colab": {
          "base_uri": "https://localhost:8080/",
          "height": 899
        },
        "outputId": "55ec782c-9922-4408-b429-962a56600b00"
      },
      "source": [
        "new_cases()\n",
        "print('\\n')\n",
        "new_cases('deaths')"
      ],
      "execution_count": 18,
      "outputs": [
        {
          "output_type": "display_data",
          "data": {
            "image/png": "[encoded data removed]",
            "text/plain": [
              "<Figure size 864x432 with 1 Axes>"
            ]
          },
          "metadata": {
            "tags": [],
            "needs_background": "dark"
          }
        },
        {
          "output_type": "stream",
          "text": [
            "\n",
            "\n"
          ],
          "name": "stdout"
        },
        {
          "output_type": "display_data",
          "data": {
            "image/png": "[encoded data removed]",
            "text/plain": [
              "<Figure size 864x432 with 1 Axes>"
            ]
          },
          "metadata": {
            "tags": [],
            "needs_background": "dark"
          }
        }
      ]
    },
    {
      "cell_type": "markdown",
      "metadata": {
        "id": "JGQI50No98-T",
        "colab_type": "text"
      },
      "source": [
        "We'll now create [Waflle charts](https://pywaffle.readthedocs.io/en/latest/) to better visualize how relevant is the number of cases in Brazil when compared with the rest of the world. For that we will:\n",
        "\n",
        "* Calculate the number of cases in the world, in Brazil, and the difference between each of them (the number in the rest of the world)\n",
        "\n",
        "* Store this information in a dataframe that will also contain the percentages that correspond to the numbers of Brazil.\n",
        "\n",
        "* Plot the Waffle chart\n",
        "* Make some modifications in the dataframe so it becomes easier to visualize and then display it."
      ]
    },
    {
      "cell_type": "code",
      "metadata": {
        "id": "yrVLAhmO19-T",
        "colab_type": "code",
        "colab": {
          "base_uri": "https://localhost:8080/",
          "height": 531
        },
        "outputId": "e03fe979-f07d-4a90-b05d-a438485ad168"
      },
      "source": [
        "# Calculating the number of cases\n",
        "world = covid[covid['location'] == 'World']\n",
        "total_cases = world.iloc[-1, 4]\n",
        "total_deaths = world.iloc[-1, 6]\n",
        "\n",
        "cases_country  = brazil.iloc[-1, 4]\n",
        "deaths_country = brazil.iloc[-1, 6]\n",
        "\n",
        "rest_world_cases = total_cases - cases_country\n",
        "rest_world_deaths = total_deaths - deaths_country\n",
        "\n",
        "# Storing this information in a dataframe\n",
        "df = pd.DataFrame(data={\n",
        "                        'labels': ['Rest of the World', 'Brazil', 'Brazil %'],\n",
        "                        'Cases': [rest_world_cases, cases_country, round(cases_country / total_cases * 100, 2)],\n",
        "                        'Deaths': [rest_world_deaths, deaths_country, round(deaths_country / total_deaths * 100, 2)]\n",
        "                        }).set_index('labels')\n",
        "df.index.name = None\n",
        "\n",
        "# Plotting the Waffle chart\n",
        "fig = plt.figure(FigureClass=Waffle,\n",
        "                  plots={\n",
        "                  '311': {\n",
        "                      'values': df.iloc[:2,0],\n",
        "                      'labels': [f'Rest of the World ({int(total_cases)})', f'Brazil ({int(cases_country)})'],\n",
        "                      'legend':{'loc': 'upper left', 'bbox_to_anchor':(1.1,1)},\n",
        "                      'title':{'label':\"Brazil's Participation in the Total Number of Cases\", 'fontsize':14, 'loc':'left'},\n",
        "                      'icons' : 'first-aid' \n",
        "                  },\n",
        "                  '312': {\n",
        "                      'values': df.iloc[:2,1],\n",
        "                       'labels': [f'Rest of the World ({int(total_deaths)})', f'Brazil ({int(deaths_country)})'],\n",
        "                      'legend':{'loc': 'upper left', 'bbox_to_anchor':(1.1,1)},\n",
        "                      'title':{'label':\"Brazil's Participation in the Total Number of Deaths\", 'fontsize':14, 'loc':'left'},\n",
        "                      'icons': 'cross'    \n",
        "                        }  \n",
        "                  },\n",
        "                  rows=5, columns=15, colors=('#5b92e5', '#ffdf00'), figsize=(20, 10)\n",
        "                  )\n",
        "fig.set_tight_layout(False)\n",
        "plt.show()\n",
        "\n",
        "print('\\n')\n",
        "# Modifying the dataframe and displaying it\n",
        "df = df.T\n",
        "df['Rest of the World'] = df['Rest of the World'].astype(int)\n",
        "df['Brazil'] = df['Brazil'].astype(int)\n",
        "display(df)"
      ],
      "execution_count": 19,
      "outputs": [
        {
          "output_type": "display_data",
          "data": {
            "image/png": "[encoded data removed]",
            "text/plain": [
              "<Waffle size 1440x720 with 2 Axes>"
            ]
          },
          "metadata": {
            "tags": [],
            "needs_background": "light"
          }
        },
        {
          "output_type": "stream",
          "text": [
            "\n",
            "\n"
          ],
          "name": "stdout"
        },
        {
          "output_type": "display_data",
          "data": {
            "text/html": [
              "<div>\n",
              "<style scoped>\n",
              "    .dataframe tbody tr th:only-of-type {\n",
              "        vertical-align: middle;\n",
              "    }\n",
              "\n",
              "    .dataframe tbody tr th {\n",
              "        vertical-align: top;\n",
              "    }\n",
              "\n",
              "    .dataframe thead th {\n",
              "        text-align: right;\n",
              "    }\n",
              "</style>\n",
              "<table border=\"1\" class=\"dataframe\">\n",
              "  <thead>\n",
              "    <tr style=\"text-align: right;\">\n",
              "      <th></th>\n",
              "      <th>Rest of the World</th>\n",
              "      <th>Brazil</th>\n",
              "      <th>Brazil %</th>\n",
              "    </tr>\n",
              "  </thead>\n",
              "  <tbody>\n",
              "    <tr>\n",
              "      <th>Cases</th>\n",
              "      <td>17018130</td>\n",
              "      <td>3057470</td>\n",
              "      <td>15.23</td>\n",
              "    </tr>\n",
              "    <tr>\n",
              "      <th>Deaths</th>\n",
              "      <td>634620</td>\n",
              "      <td>101752</td>\n",
              "      <td>13.82</td>\n",
              "    </tr>\n",
              "  </tbody>\n",
              "</table>\n",
              "</div>"
            ],
            "text/plain": [
              "        Rest of the World   Brazil  Brazil %\n",
              "Cases            17018130  3057470     15.23\n",
              "Deaths             634620   101752     13.82"
            ]
          },
          "metadata": {
            "tags": []
          }
        }
      ]
    },
    {
      "cell_type": "markdown",
      "metadata": {
        "id": "cPjAc2cu0RKB",
        "colab_type": "text"
      },
      "source": [
        "We are now interested in analyzing how the participation of Brazil in these numbers evolved through time. We'll then create a 7-day moving average line chart with the percentage of cases for Brazil since the first COVID-19 case confirmed in Brazil.\n",
        "\n",
        "This process will take some steps. The first step is to merge the world and brazil dataframes. Notice that we are only using the columns we're interested in."
      ]
    },
    {
      "cell_type": "code",
      "metadata": {
        "id": "BitI4DosEQeQ",
        "colab_type": "code",
        "colab": {
          "base_uri": "https://localhost:8080/",
          "height": 204
        },
        "outputId": "ed4b80cc-f218-422d-f510-f33ab5f7bcc4"
      },
      "source": [
        "columns = ['date', 'total_cases', 'total_deaths', 'new_cases', 'new_deaths']\n",
        "brazil_part = pd.merge(left=world.loc[:, columns], right=brazil.loc[:, columns], how='inner', on='date', suffixes=('_world', '_brazil'))\n",
        "brazil_part.head()"
      ],
      "execution_count": 20,
      "outputs": [
        {
          "output_type": "execute_result",
          "data": {
            "text/html": [
              "<div>\n",
              "<style scoped>\n",
              "    .dataframe tbody tr th:only-of-type {\n",
              "        vertical-align: middle;\n",
              "    }\n",
              "\n",
              "    .dataframe tbody tr th {\n",
              "        vertical-align: top;\n",
              "    }\n",
              "\n",
              "    .dataframe thead th {\n",
              "        text-align: right;\n",
              "    }\n",
              "</style>\n",
              "<table border=\"1\" class=\"dataframe\">\n",
              "  <thead>\n",
              "    <tr style=\"text-align: right;\">\n",
              "      <th></th>\n",
              "      <th>date</th>\n",
              "      <th>total_cases_world</th>\n",
              "      <th>total_deaths_world</th>\n",
              "      <th>new_cases_world</th>\n",
              "      <th>new_deaths_world</th>\n",
              "      <th>total_cases_brazil</th>\n",
              "      <th>total_deaths_brazil</th>\n",
              "      <th>new_cases_brazil</th>\n",
              "      <th>new_deaths_brazil</th>\n",
              "    </tr>\n",
              "  </thead>\n",
              "  <tbody>\n",
              "    <tr>\n",
              "      <th>0</th>\n",
              "      <td>2019-12-31</td>\n",
              "      <td>27.0</td>\n",
              "      <td>0.0</td>\n",
              "      <td>27.0</td>\n",
              "      <td>0.0</td>\n",
              "      <td>0.0</td>\n",
              "      <td>0.0</td>\n",
              "      <td>0.0</td>\n",
              "      <td>0.0</td>\n",
              "    </tr>\n",
              "    <tr>\n",
              "      <th>1</th>\n",
              "      <td>2020-01-01</td>\n",
              "      <td>27.0</td>\n",
              "      <td>0.0</td>\n",
              "      <td>0.0</td>\n",
              "      <td>0.0</td>\n",
              "      <td>0.0</td>\n",
              "      <td>0.0</td>\n",
              "      <td>0.0</td>\n",
              "      <td>0.0</td>\n",
              "    </tr>\n",
              "    <tr>\n",
              "      <th>2</th>\n",
              "      <td>2020-01-02</td>\n",
              "      <td>27.0</td>\n",
              "      <td>0.0</td>\n",
              "      <td>0.0</td>\n",
              "      <td>0.0</td>\n",
              "      <td>0.0</td>\n",
              "      <td>0.0</td>\n",
              "      <td>0.0</td>\n",
              "      <td>0.0</td>\n",
              "    </tr>\n",
              "    <tr>\n",
              "      <th>3</th>\n",
              "      <td>2020-01-03</td>\n",
              "      <td>44.0</td>\n",
              "      <td>0.0</td>\n",
              "      <td>17.0</td>\n",
              "      <td>0.0</td>\n",
              "      <td>0.0</td>\n",
              "      <td>0.0</td>\n",
              "      <td>0.0</td>\n",
              "      <td>0.0</td>\n",
              "    </tr>\n",
              "    <tr>\n",
              "      <th>4</th>\n",
              "      <td>2020-01-04</td>\n",
              "      <td>44.0</td>\n",
              "      <td>0.0</td>\n",
              "      <td>0.0</td>\n",
              "      <td>0.0</td>\n",
              "      <td>0.0</td>\n",
              "      <td>0.0</td>\n",
              "      <td>0.0</td>\n",
              "      <td>0.0</td>\n",
              "    </tr>\n",
              "  </tbody>\n",
              "</table>\n",
              "</div>"
            ],
            "text/plain": [
              "        date  total_cases_world  ...  new_cases_brazil  new_deaths_brazil\n",
              "0 2019-12-31               27.0  ...               0.0                0.0\n",
              "1 2020-01-01               27.0  ...               0.0                0.0\n",
              "2 2020-01-02               27.0  ...               0.0                0.0\n",
              "3 2020-01-03               44.0  ...               0.0                0.0\n",
              "4 2020-01-04               44.0  ...               0.0                0.0\n",
              "\n",
              "[5 rows x 9 columns]"
            ]
          },
          "metadata": {
            "tags": []
          },
          "execution_count": 20
        }
      ]
    },
    {
      "cell_type": "markdown",
      "metadata": {
        "id": "a1y5RfKI1UcZ",
        "colab_type": "text"
      },
      "source": [
        "The next steps are:\n",
        "\n",
        "* To calculate Brazil's participation for each column;\n",
        "\n",
        "* To fill the null values left by divisions by zero with zero;\n",
        "\n",
        "* To drop the columns we are not going to use again;\n",
        "\n",
        "* To make each a column a 7-day moving average of itself;\n",
        "\n",
        "* To fill null values left when the moving average was calculated with zero."
      ]
    },
    {
      "cell_type": "code",
      "metadata": {
        "id": "8C9wzzKzHjNS",
        "colab_type": "code",
        "colab": {
          "base_uri": "https://localhost:8080/",
          "height": 419
        },
        "outputId": "4dfd996a-ae74-4d49-9728-9f569b61b014"
      },
      "source": [
        "# Calculating Brazil's participation for each column\n",
        "brazil_part['total_cases'] = round(brazil_part['total_cases_brazil'] / brazil_part['total_cases_world'] * 100, 2)\n",
        "brazil_part['total_deaths'] = round(brazil_part['total_deaths_brazil'] / brazil_part['total_deaths_world'] * 100, 2)\n",
        "brazil_part['new_cases'] = round(brazil_part['new_cases_brazil'] / brazil_part['new_cases_world'] * 100, 2)\n",
        "brazil_part['new_deaths'] = round(brazil_part['new_deaths_brazil'] / brazil_part['new_deaths_world'] * 100, 2)\n",
        "\n",
        "# Filling null values\n",
        "brazil_part.fillna(value=0, inplace=True)\n",
        "\n",
        "# Dropping the columns\n",
        "brazil_part.drop(labels=['total_cases_world',\t'total_deaths_world',\t\n",
        "                         'new_cases_world',\t'new_deaths_world',\t'total_cases_brazil',\n",
        "                         'total_deaths_brazil',\t'new_cases_brazil',\t'new_deaths_brazil'], \n",
        "                 axis=1, inplace=True)\n",
        "\n",
        "# Making each a column a 7-day moving average of itself\n",
        "brazil_part.iloc[:, 1:] = brazil_part.iloc[:, 1:].apply(lambda x: round(x.rolling(7).mean(), 2))\n",
        "\n",
        "# Filling null values\n",
        "brazil_part.fillna(value=0, inplace=True)\n",
        "\n",
        "brazil_part"
      ],
      "execution_count": 21,
      "outputs": [
        {
          "output_type": "execute_result",
          "data": {
            "text/html": [
              "<div>\n",
              "<style scoped>\n",
              "    .dataframe tbody tr th:only-of-type {\n",
              "        vertical-align: middle;\n",
              "    }\n",
              "\n",
              "    .dataframe tbody tr th {\n",
              "        vertical-align: top;\n",
              "    }\n",
              "\n",
              "    .dataframe thead th {\n",
              "        text-align: right;\n",
              "    }\n",
              "</style>\n",
              "<table border=\"1\" class=\"dataframe\">\n",
              "  <thead>\n",
              "    <tr style=\"text-align: right;\">\n",
              "      <th></th>\n",
              "      <th>date</th>\n",
              "      <th>total_cases</th>\n",
              "      <th>total_deaths</th>\n",
              "      <th>new_cases</th>\n",
              "      <th>new_deaths</th>\n",
              "    </tr>\n",
              "  </thead>\n",
              "  <tbody>\n",
              "    <tr>\n",
              "      <th>0</th>\n",
              "      <td>2019-12-31</td>\n",
              "      <td>0.00</td>\n",
              "      <td>0.00</td>\n",
              "      <td>0.00</td>\n",
              "      <td>0.00</td>\n",
              "    </tr>\n",
              "    <tr>\n",
              "      <th>1</th>\n",
              "      <td>2020-01-01</td>\n",
              "      <td>0.00</td>\n",
              "      <td>0.00</td>\n",
              "      <td>0.00</td>\n",
              "      <td>0.00</td>\n",
              "    </tr>\n",
              "    <tr>\n",
              "      <th>2</th>\n",
              "      <td>2020-01-02</td>\n",
              "      <td>0.00</td>\n",
              "      <td>0.00</td>\n",
              "      <td>0.00</td>\n",
              "      <td>0.00</td>\n",
              "    </tr>\n",
              "    <tr>\n",
              "      <th>3</th>\n",
              "      <td>2020-01-03</td>\n",
              "      <td>0.00</td>\n",
              "      <td>0.00</td>\n",
              "      <td>0.00</td>\n",
              "      <td>0.00</td>\n",
              "    </tr>\n",
              "    <tr>\n",
              "      <th>4</th>\n",
              "      <td>2020-01-04</td>\n",
              "      <td>0.00</td>\n",
              "      <td>0.00</td>\n",
              "      <td>0.00</td>\n",
              "      <td>0.00</td>\n",
              "    </tr>\n",
              "    <tr>\n",
              "      <th>...</th>\n",
              "      <td>...</td>\n",
              "      <td>...</td>\n",
              "      <td>...</td>\n",
              "      <td>...</td>\n",
              "      <td>...</td>\n",
              "    </tr>\n",
              "    <tr>\n",
              "      <th>220</th>\n",
              "      <td>2020-08-07</td>\n",
              "      <td>15.16</td>\n",
              "      <td>13.68</td>\n",
              "      <td>16.51</td>\n",
              "      <td>17.05</td>\n",
              "    </tr>\n",
              "    <tr>\n",
              "      <th>221</th>\n",
              "      <td>2020-08-08</td>\n",
              "      <td>15.18</td>\n",
              "      <td>13.71</td>\n",
              "      <td>16.44</td>\n",
              "      <td>16.61</td>\n",
              "    </tr>\n",
              "    <tr>\n",
              "      <th>222</th>\n",
              "      <td>2020-08-09</td>\n",
              "      <td>15.20</td>\n",
              "      <td>13.73</td>\n",
              "      <td>16.64</td>\n",
              "      <td>16.20</td>\n",
              "    </tr>\n",
              "    <tr>\n",
              "      <th>223</th>\n",
              "      <td>2020-08-10</td>\n",
              "      <td>15.23</td>\n",
              "      <td>13.76</td>\n",
              "      <td>16.42</td>\n",
              "      <td>16.08</td>\n",
              "    </tr>\n",
              "    <tr>\n",
              "      <th>224</th>\n",
              "      <td>2020-08-11</td>\n",
              "      <td>15.25</td>\n",
              "      <td>13.78</td>\n",
              "      <td>16.69</td>\n",
              "      <td>16.29</td>\n",
              "    </tr>\n",
              "  </tbody>\n",
              "</table>\n",
              "<p>225 rows × 5 columns</p>\n",
              "</div>"
            ],
            "text/plain": [
              "          date  total_cases  total_deaths  new_cases  new_deaths\n",
              "0   2019-12-31         0.00          0.00       0.00        0.00\n",
              "1   2020-01-01         0.00          0.00       0.00        0.00\n",
              "2   2020-01-02         0.00          0.00       0.00        0.00\n",
              "3   2020-01-03         0.00          0.00       0.00        0.00\n",
              "4   2020-01-04         0.00          0.00       0.00        0.00\n",
              "..         ...          ...           ...        ...         ...\n",
              "220 2020-08-07        15.16         13.68      16.51       17.05\n",
              "221 2020-08-08        15.18         13.71      16.44       16.61\n",
              "222 2020-08-09        15.20         13.73      16.64       16.20\n",
              "223 2020-08-10        15.23         13.76      16.42       16.08\n",
              "224 2020-08-11        15.25         13.78      16.69       16.29\n",
              "\n",
              "[225 rows x 5 columns]"
            ]
          },
          "metadata": {
            "tags": []
          },
          "execution_count": 21
        }
      ]
    },
    {
      "cell_type": "markdown",
      "metadata": {
        "id": "nXEueAWH2vJA",
        "colab_type": "text"
      },
      "source": [
        "With the data formatted, we'll write a final function to plot the evolution of Brazil's participation in the number of total and of new cases and deaths.\n",
        "\n",
        "The `participation` function receives only one argument:\n",
        "* kind: *{'total', 'new'}, default 'total'*\n",
        " * The kind of data to plot."
      ]
    },
    {
      "cell_type": "code",
      "metadata": {
        "id": "13ueuZU3J2pC",
        "colab_type": "code",
        "colab": {}
      },
      "source": [
        "def participation(kind='total'):\n",
        "\n",
        "    index = 1\n",
        "    if kind.lower() == 'new':\n",
        "        index = 3\n",
        "\n",
        "    fig, ax = plt.subplots(figsize=(12, 6))\n",
        "\n",
        "    ax.plot(brazil_part['date'], brazil_part[f'{kind}_cases'], label='Cases', marker='o', markersize=12, markeredgecolor='w', markeredgewidth=0.5, markevery=[-1])\n",
        "    ax.plot(brazil_part['date'], brazil_part[f'{kind}_deaths'], color='red', label='Deaths', marker='P', markersize=12, markeredgecolor='w', markeredgewidth=0.5, markevery=[-1])\n",
        "    ax.legend(frameon=False, loc='upper left')\n",
        "\n",
        "    ax.text(x=brazil_part.iloc[-1, 0] + dt.timedelta(days=3), y=brazil_part.iloc[-1, index], s=f'{brazil_part.iloc[-1, index]}%', alpha=0.7)\n",
        "    ax.text(x=brazil_part.iloc[-1, 0] + dt.timedelta(days=3), y=brazil_part.iloc[-1, index+1], s=f'{brazil_part.iloc[-1, index+1]}%', alpha=0.7)\n",
        "\n",
        "    ax.set_title(f\"Evolution of Brazil's Participation in the Number of {kind.title()} Cases and Deaths - 7-Day Moving Average\", alpha=0.7)\n",
        "\n",
        "    limx = brazil_part.iloc[-1, 0] + dt.timedelta(days=20)\n",
        "    ax.set_xlim(brazil_part.iloc[0, 0], limx)\n",
        "    ax.grid(False)\n",
        "    ax.tick_params(colors='grey')\n",
        "\n",
        "    plt.tight_layout()\n",
        "    plt.show()"
      ],
      "execution_count": 22,
      "outputs": []
    },
    {
      "cell_type": "markdown",
      "metadata": {
        "id": "buhpzwvO3K3Q",
        "colab_type": "text"
      },
      "source": [
        "And now let's use this function."
      ]
    },
    {
      "cell_type": "code",
      "metadata": {
        "id": "fJ8jy-2BKJS6",
        "colab_type": "code",
        "colab": {
          "base_uri": "https://localhost:8080/",
          "height": 899
        },
        "outputId": "63f2418f-7149-4e00-b58b-8f3ea788fc2e"
      },
      "source": [
        "participation('total')\n",
        "print('\\n')\n",
        "participation('new')"
      ],
      "execution_count": 23,
      "outputs": [
        {
          "output_type": "display_data",
          "data": {
            "image/png": "[encoded data removed]",
            "text/plain": [
              "<Figure size 864x432 with 1 Axes>"
            ]
          },
          "metadata": {
            "tags": [],
            "needs_background": "dark"
          }
        },
        {
          "output_type": "stream",
          "text": [
            "\n",
            "\n"
          ],
          "name": "stdout"
        },
        {
          "output_type": "display_data",
          "data": {
            "image/png": "[encoded data removed]",
            "text/plain": [
              "<Figure size 864x432 with 1 Axes>"
            ]
          },
          "metadata": {
            "tags": [],
            "needs_background": "dark"
          }
        }
      ]
    },
    {
      "cell_type": "markdown",
      "metadata": {
        "id": "LCsiXvM3BcsO",
        "colab_type": "text"
      },
      "source": [
        "## **Conclusion**\n",
        "\n",
        "In this project, we analyzed the COVID-19 dataset from the Our World in Data publication in three main steps:\n",
        "\n",
        "* Exploratory data analysis\n",
        "\n",
        "* Global situation analysis\n",
        "\n",
        "* Analysis of the situation in brazil\n",
        "\n",
        "As mentioned in the introduction, there will be no comments and explanations on the results as this notebook will be updated on a daily bases. However, if you are interested in that, you can read [this article](https://www.linkedin.com/pulse/how-brazil-handling-covid-19-looking-data-ot%25C3%25A1vio-silveira/?trackingId=bjGHyR3mR2W3Fz5VCid1oQ%3D%3D) on my [Linkedin profile](https://www.linkedin.com/in/otavioss28/) with the analysis of the results for the day in which this notebook was first published."
      ]
    }
  ]
}